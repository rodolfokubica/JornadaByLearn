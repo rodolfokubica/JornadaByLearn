def imc(peso, altura):
   altura_quadrada = altura ** 2 
   meu_imc = peso / altura_quadrada
   print(f'O meu IMC é {meu_imc:.2f}')
   return meu_imc 

meu_imc = imc(x, x)
